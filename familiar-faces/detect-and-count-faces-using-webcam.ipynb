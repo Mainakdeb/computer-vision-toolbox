{
 "cells": [
  {
   "cell_type": "code",
   "execution_count": 1,
   "metadata": {},
   "outputs": [],
   "source": [
    "import cv2\n",
    "import numpy"
   ]
  },
  {
   "cell_type": "markdown",
   "metadata": {},
   "source": [
    "### Use either of the two paths :\n",
    "* './haar-cascades/haarcascade_frontalface_default.xml'\n",
    "* './haar-cascades/haarcascade_frontalface_alt2.xml'\n"
   ]
  },
  {
   "cell_type": "code",
   "execution_count": 2,
   "metadata": {},
   "outputs": [],
   "source": [
    "face_haar_cascade = cv2.CascadeClassifier('./haar-cascades/haarcascade_frontalface_alt2.xml')\n",
    "cap=cv2.VideoCapture(0)\n",
    "\n",
    "while True:\n",
    "    \n",
    "    ret,test_img=cap.read()\n",
    "    if not ret:\n",
    "        continue\n",
    "    gray_img= cv2.cvtColor(test_img, cv2.COLOR_BGR2GRAY)\n",
    "    \n",
    "    faces_detected = face_haar_cascade.detectMultiScale(gray_img, 1.32, 5)\n",
    "        \n",
    "    for (x,y,w,h) in faces_detected:\n",
    "        \n",
    "        cv2.rectangle(test_img,(x,y),(x+w,y+h),(255,0,0),thickness=7)\n",
    "        roi_gray=gray_img[y:y+w,x:x+h]\n",
    "        roi_gray=cv2.resize(roi_gray,(200,200))\n",
    "        \n",
    "    cv2.putText(test_img, 'num_faces: '+str(numpy.array(faces_detected).shape[0]), (10,test_img.shape[0] -10), cv2.FONT_HERSHEY_PLAIN, 3, (0,0,255), 2)\n",
    "    cv2.putText(test_img, 'Press Q to terminate', (10,test_img.shape[0] -450), cv2.FONT_HERSHEY_PLAIN, 2, (0,0,255), 2)\n",
    "    cv2.imshow('',test_img)    \n",
    "    \n",
    "    if cv2.waitKey(10) == ord('q'):\n",
    "        \n",
    "        cv2.destroyAllWindows()\n",
    "        break"
   ]
  },
  {
   "cell_type": "markdown",
   "metadata": {},
   "source": [
    "### Note :\n",
    "Press 'Q' to terminate"
   ]
  }
 ],
 "metadata": {
  "kernelspec": {
   "display_name": "Python 3",
   "language": "python",
   "name": "python3"
  },
  "language_info": {
   "codemirror_mode": {
    "name": "ipython",
    "version": 3
   },
   "file_extension": ".py",
   "mimetype": "text/x-python",
   "name": "python",
   "nbconvert_exporter": "python",
   "pygments_lexer": "ipython3",
   "version": "3.7.6"
  }
 },
 "nbformat": 4,
 "nbformat_minor": 4
}
